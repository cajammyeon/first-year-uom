{
 "cells": [
  {
   "cell_type": "markdown",
   "metadata": {},
   "source": [
    "<h1>Classification of Degrees awarded (2017/18)</h1>\n",
    "<p>In this Notebook you will show the degree classifications awareded from academic year 2017/18 as a bar plot</p>\n",
    "<p>You will require the files produced when you completed the previous exercise</p>"
   ]
  },
  {
   "cell_type": "markdown",
   "metadata": {},
   "source": [
    "<h2>Import PANDAs and Matplotlib.pylot</h2>\n",
    "<p>You will be using the pandas dataframe to store the data and Matplotlib pyplot to plot the data.  Import the necessary libraries</h2>"
   ]
  },
  {
   "cell_type": "code",
   "execution_count": 1,
   "metadata": {},
   "outputs": [],
   "source": [
    "import pandas as pd\n",
    "import numpy as np\n",
    "import matplotlib.pyplot as plt\n",
    "\n",
    "%matplotlib inline"
   ]
  },
  {
   "cell_type": "markdown",
   "metadata": {},
   "source": [
    "<h2>Read the data into a PANDAs DataFrame</h2>\n",
    "<p>Read the 'df.csv' in to a data frame called df, use the head method to output the first 20 rows of the datafile so that the structure of the dataframe can be explored.</p>"
   ]
  },
  {
   "cell_type": "code",
   "execution_count": 2,
   "metadata": {},
   "outputs": [
    {
     "data": {
      "text/html": [
       "<div>\n",
       "<style scoped>\n",
       "    .dataframe tbody tr th:only-of-type {\n",
       "        vertical-align: middle;\n",
       "    }\n",
       "\n",
       "    .dataframe tbody tr th {\n",
       "        vertical-align: top;\n",
       "    }\n",
       "\n",
       "    .dataframe thead th {\n",
       "        text-align: right;\n",
       "    }\n",
       "</style>\n",
       "<table border=\"1\" class=\"dataframe\">\n",
       "  <thead>\n",
       "    <tr style=\"text-align: right;\">\n",
       "      <th></th>\n",
       "      <th>Unnamed: 0</th>\n",
       "      <th>Academic Year</th>\n",
       "      <th>Classification of First Degree</th>\n",
       "      <th>Number</th>\n",
       "      <th>Percentage</th>\n",
       "    </tr>\n",
       "  </thead>\n",
       "  <tbody>\n",
       "    <tr>\n",
       "      <th>0</th>\n",
       "      <td>17</td>\n",
       "      <td>2013/14</td>\n",
       "      <td>First</td>\n",
       "      <td>79410</td>\n",
       "      <td>20</td>\n",
       "    </tr>\n",
       "    <tr>\n",
       "      <th>1</th>\n",
       "      <td>18</td>\n",
       "      <td>2013/14</td>\n",
       "      <td>Lower second</td>\n",
       "      <td>95965</td>\n",
       "      <td>24</td>\n",
       "    </tr>\n",
       "    <tr>\n",
       "      <th>2</th>\n",
       "      <td>19</td>\n",
       "      <td>2013/14</td>\n",
       "      <td>Third/Pass</td>\n",
       "      <td>21905</td>\n",
       "      <td>6</td>\n",
       "    </tr>\n",
       "    <tr>\n",
       "      <th>3</th>\n",
       "      <td>21</td>\n",
       "      <td>2013/14</td>\n",
       "      <td>Upper second</td>\n",
       "      <td>198320</td>\n",
       "      <td>50</td>\n",
       "    </tr>\n",
       "    <tr>\n",
       "      <th>4</th>\n",
       "      <td>292</td>\n",
       "      <td>2014/15</td>\n",
       "      <td>First</td>\n",
       "      <td>81640</td>\n",
       "      <td>22</td>\n",
       "    </tr>\n",
       "    <tr>\n",
       "      <th>5</th>\n",
       "      <td>293</td>\n",
       "      <td>2014/15</td>\n",
       "      <td>Lower second</td>\n",
       "      <td>85250</td>\n",
       "      <td>23</td>\n",
       "    </tr>\n",
       "    <tr>\n",
       "      <th>6</th>\n",
       "      <td>294</td>\n",
       "      <td>2014/15</td>\n",
       "      <td>Third/Pass</td>\n",
       "      <td>20340</td>\n",
       "      <td>5</td>\n",
       "    </tr>\n",
       "    <tr>\n",
       "      <th>7</th>\n",
       "      <td>296</td>\n",
       "      <td>2014/15</td>\n",
       "      <td>Upper second</td>\n",
       "      <td>183680</td>\n",
       "      <td>50</td>\n",
       "    </tr>\n",
       "    <tr>\n",
       "      <th>8</th>\n",
       "      <td>567</td>\n",
       "      <td>2015/16</td>\n",
       "      <td>First</td>\n",
       "      <td>88890</td>\n",
       "      <td>24</td>\n",
       "    </tr>\n",
       "    <tr>\n",
       "      <th>9</th>\n",
       "      <td>568</td>\n",
       "      <td>2015/16</td>\n",
       "      <td>Lower second</td>\n",
       "      <td>81595</td>\n",
       "      <td>22</td>\n",
       "    </tr>\n",
       "    <tr>\n",
       "      <th>10</th>\n",
       "      <td>569</td>\n",
       "      <td>2015/16</td>\n",
       "      <td>Third/Pass</td>\n",
       "      <td>19280</td>\n",
       "      <td>5</td>\n",
       "    </tr>\n",
       "    <tr>\n",
       "      <th>11</th>\n",
       "      <td>571</td>\n",
       "      <td>2015/16</td>\n",
       "      <td>Upper second</td>\n",
       "      <td>186565</td>\n",
       "      <td>50</td>\n",
       "    </tr>\n",
       "    <tr>\n",
       "      <th>12</th>\n",
       "      <td>842</td>\n",
       "      <td>2016/17</td>\n",
       "      <td>First</td>\n",
       "      <td>100945</td>\n",
       "      <td>26</td>\n",
       "    </tr>\n",
       "    <tr>\n",
       "      <th>13</th>\n",
       "      <td>843</td>\n",
       "      <td>2016/17</td>\n",
       "      <td>Lower second</td>\n",
       "      <td>79515</td>\n",
       "      <td>20</td>\n",
       "    </tr>\n",
       "    <tr>\n",
       "      <th>14</th>\n",
       "      <td>844</td>\n",
       "      <td>2016/17</td>\n",
       "      <td>Third/Pass</td>\n",
       "      <td>19025</td>\n",
       "      <td>5</td>\n",
       "    </tr>\n",
       "    <tr>\n",
       "      <th>15</th>\n",
       "      <td>846</td>\n",
       "      <td>2016/17</td>\n",
       "      <td>Upper second</td>\n",
       "      <td>192395</td>\n",
       "      <td>49</td>\n",
       "    </tr>\n",
       "    <tr>\n",
       "      <th>16</th>\n",
       "      <td>1122</td>\n",
       "      <td>2017/18</td>\n",
       "      <td>First</td>\n",
       "      <td>110475</td>\n",
       "      <td>28</td>\n",
       "    </tr>\n",
       "    <tr>\n",
       "      <th>17</th>\n",
       "      <td>1123</td>\n",
       "      <td>2017/18</td>\n",
       "      <td>Lower second</td>\n",
       "      <td>76210</td>\n",
       "      <td>19</td>\n",
       "    </tr>\n",
       "    <tr>\n",
       "      <th>18</th>\n",
       "      <td>1124</td>\n",
       "      <td>2017/18</td>\n",
       "      <td>Third/Pass</td>\n",
       "      <td>17830</td>\n",
       "      <td>4</td>\n",
       "    </tr>\n",
       "    <tr>\n",
       "      <th>19</th>\n",
       "      <td>1126</td>\n",
       "      <td>2017/18</td>\n",
       "      <td>Upper second</td>\n",
       "      <td>192425</td>\n",
       "      <td>48</td>\n",
       "    </tr>\n",
       "  </tbody>\n",
       "</table>\n",
       "</div>"
      ],
      "text/plain": [
       "    Unnamed: 0 Academic Year Classification of First Degree  Number  \\\n",
       "0           17       2013/14                          First   79410   \n",
       "1           18       2013/14                   Lower second   95965   \n",
       "2           19       2013/14                     Third/Pass   21905   \n",
       "3           21       2013/14                   Upper second  198320   \n",
       "4          292       2014/15                          First   81640   \n",
       "5          293       2014/15                   Lower second   85250   \n",
       "6          294       2014/15                     Third/Pass   20340   \n",
       "7          296       2014/15                   Upper second  183680   \n",
       "8          567       2015/16                          First   88890   \n",
       "9          568       2015/16                   Lower second   81595   \n",
       "10         569       2015/16                     Third/Pass   19280   \n",
       "11         571       2015/16                   Upper second  186565   \n",
       "12         842       2016/17                          First  100945   \n",
       "13         843       2016/17                   Lower second   79515   \n",
       "14         844       2016/17                     Third/Pass   19025   \n",
       "15         846       2016/17                   Upper second  192395   \n",
       "16        1122       2017/18                          First  110475   \n",
       "17        1123       2017/18                   Lower second   76210   \n",
       "18        1124       2017/18                     Third/Pass   17830   \n",
       "19        1126       2017/18                   Upper second  192425   \n",
       "\n",
       "    Percentage  \n",
       "0           20  \n",
       "1           24  \n",
       "2            6  \n",
       "3           50  \n",
       "4           22  \n",
       "5           23  \n",
       "6            5  \n",
       "7           50  \n",
       "8           24  \n",
       "9           22  \n",
       "10           5  \n",
       "11          50  \n",
       "12          26  \n",
       "13          20  \n",
       "14           5  \n",
       "15          49  \n",
       "16          28  \n",
       "17          19  \n",
       "18           4  \n",
       "19          48  "
      ]
     },
     "execution_count": 2,
     "metadata": {},
     "output_type": "execute_result"
    }
   ],
   "source": [
    "df = pd.read_csv('df.csv')\n",
    "df.head(20)"
   ]
  },
  {
   "cell_type": "markdown",
   "metadata": {},
   "source": [
    "<h2>Creating a new DataFrame</h2>\n",
    "<p>Create a new dataframe named df_17_18 that contains only the rows where the 'Academic Year' column has the value '2017/18', then output the dataframe to make sure you have the correct four rows.</p>"
   ]
  },
  {
   "cell_type": "code",
   "execution_count": 3,
   "metadata": {},
   "outputs": [
    {
     "data": {
      "text/html": [
       "<div>\n",
       "<style scoped>\n",
       "    .dataframe tbody tr th:only-of-type {\n",
       "        vertical-align: middle;\n",
       "    }\n",
       "\n",
       "    .dataframe tbody tr th {\n",
       "        vertical-align: top;\n",
       "    }\n",
       "\n",
       "    .dataframe thead th {\n",
       "        text-align: right;\n",
       "    }\n",
       "</style>\n",
       "<table border=\"1\" class=\"dataframe\">\n",
       "  <thead>\n",
       "    <tr style=\"text-align: right;\">\n",
       "      <th></th>\n",
       "      <th>Unnamed: 0</th>\n",
       "      <th>Academic Year</th>\n",
       "      <th>Classification of First Degree</th>\n",
       "      <th>Number</th>\n",
       "      <th>Percentage</th>\n",
       "    </tr>\n",
       "  </thead>\n",
       "  <tbody>\n",
       "    <tr>\n",
       "      <th>16</th>\n",
       "      <td>1122</td>\n",
       "      <td>2017/18</td>\n",
       "      <td>First</td>\n",
       "      <td>110475</td>\n",
       "      <td>28</td>\n",
       "    </tr>\n",
       "    <tr>\n",
       "      <th>17</th>\n",
       "      <td>1123</td>\n",
       "      <td>2017/18</td>\n",
       "      <td>Lower second</td>\n",
       "      <td>76210</td>\n",
       "      <td>19</td>\n",
       "    </tr>\n",
       "    <tr>\n",
       "      <th>18</th>\n",
       "      <td>1124</td>\n",
       "      <td>2017/18</td>\n",
       "      <td>Third/Pass</td>\n",
       "      <td>17830</td>\n",
       "      <td>4</td>\n",
       "    </tr>\n",
       "    <tr>\n",
       "      <th>19</th>\n",
       "      <td>1126</td>\n",
       "      <td>2017/18</td>\n",
       "      <td>Upper second</td>\n",
       "      <td>192425</td>\n",
       "      <td>48</td>\n",
       "    </tr>\n",
       "  </tbody>\n",
       "</table>\n",
       "</div>"
      ],
      "text/plain": [
       "    Unnamed: 0 Academic Year Classification of First Degree  Number  \\\n",
       "16        1122       2017/18                          First  110475   \n",
       "17        1123       2017/18                   Lower second   76210   \n",
       "18        1124       2017/18                     Third/Pass   17830   \n",
       "19        1126       2017/18                   Upper second  192425   \n",
       "\n",
       "    Percentage  \n",
       "16          28  \n",
       "17          19  \n",
       "18           4  \n",
       "19          48  "
      ]
     },
     "execution_count": 3,
     "metadata": {},
     "output_type": "execute_result"
    }
   ],
   "source": [
    "mask = df['Academic Year'] == '2017/18'\n",
    "df_17_18 = df[mask]\n",
    "df_17_18"
   ]
  },
  {
   "cell_type": "markdown",
   "metadata": {},
   "source": [
    "<h2>Setting the Index</h2>\n",
    "<p>Set Academic Year as the row index and remove any unnamed columns.  Then output the dataframe to make sure it is as expected</p>"
   ]
  },
  {
   "cell_type": "code",
   "execution_count": 4,
   "metadata": {},
   "outputs": [
    {
     "name": "stderr",
     "output_type": "stream",
     "text": [
      "/tmp/ipykernel_25448/3882522223.py:1: SettingWithCopyWarning: \n",
      "A value is trying to be set on a copy of a slice from a DataFrame\n",
      "\n",
      "See the caveats in the documentation: https://pandas.pydata.org/pandas-docs/stable/user_guide/indexing.html#returning-a-view-versus-a-copy\n",
      "  df_17_18.drop(columns=['Unnamed: 0'], inplace = True)\n"
     ]
    },
    {
     "data": {
      "text/html": [
       "<div>\n",
       "<style scoped>\n",
       "    .dataframe tbody tr th:only-of-type {\n",
       "        vertical-align: middle;\n",
       "    }\n",
       "\n",
       "    .dataframe tbody tr th {\n",
       "        vertical-align: top;\n",
       "    }\n",
       "\n",
       "    .dataframe thead th {\n",
       "        text-align: right;\n",
       "    }\n",
       "</style>\n",
       "<table border=\"1\" class=\"dataframe\">\n",
       "  <thead>\n",
       "    <tr style=\"text-align: right;\">\n",
       "      <th></th>\n",
       "      <th>Academic Year</th>\n",
       "      <th>Classification of First Degree</th>\n",
       "      <th>Number</th>\n",
       "      <th>Percentage</th>\n",
       "    </tr>\n",
       "  </thead>\n",
       "  <tbody>\n",
       "    <tr>\n",
       "      <th>16</th>\n",
       "      <td>2017/18</td>\n",
       "      <td>First</td>\n",
       "      <td>110475</td>\n",
       "      <td>28</td>\n",
       "    </tr>\n",
       "    <tr>\n",
       "      <th>17</th>\n",
       "      <td>2017/18</td>\n",
       "      <td>Lower second</td>\n",
       "      <td>76210</td>\n",
       "      <td>19</td>\n",
       "    </tr>\n",
       "    <tr>\n",
       "      <th>18</th>\n",
       "      <td>2017/18</td>\n",
       "      <td>Third/Pass</td>\n",
       "      <td>17830</td>\n",
       "      <td>4</td>\n",
       "    </tr>\n",
       "    <tr>\n",
       "      <th>19</th>\n",
       "      <td>2017/18</td>\n",
       "      <td>Upper second</td>\n",
       "      <td>192425</td>\n",
       "      <td>48</td>\n",
       "    </tr>\n",
       "  </tbody>\n",
       "</table>\n",
       "</div>"
      ],
      "text/plain": [
       "   Academic Year Classification of First Degree  Number  Percentage\n",
       "16       2017/18                          First  110475          28\n",
       "17       2017/18                   Lower second   76210          19\n",
       "18       2017/18                     Third/Pass   17830           4\n",
       "19       2017/18                   Upper second  192425          48"
      ]
     },
     "execution_count": 4,
     "metadata": {},
     "output_type": "execute_result"
    }
   ],
   "source": [
    "df_17_18.drop(columns=['Unnamed: 0'], inplace = True)\n",
    "df_17_18"
   ]
  },
  {
   "cell_type": "markdown",
   "metadata": {},
   "source": [
    "<h2>Define the Size of the Figure</h2>\n",
    "<p>We are now ready to plot.  Figures consist of one or more plots, set the size of the figure to 10 inches by 5 inches. Give your figure a name called '17_18' and assign this object to a variable named fig</p>"
   ]
  },
  {
   "cell_type": "code",
   "execution_count": 5,
   "metadata": {},
   "outputs": [
    {
     "data": {
      "text/plain": [
       "<Figure size 1000x500 with 0 Axes>"
      ]
     },
     "metadata": {},
     "output_type": "display_data"
    }
   ],
   "source": [
    "fig = plt.figure(num = '17_18', figsize = (10,5))"
   ]
  },
  {
   "cell_type": "markdown",
   "metadata": {},
   "source": [
    "<h2>Create a Plot</h2>\n",
    "<p>Create a bar plot using using the data from the 'Classification of First Degree' and 'Percentage' columns.  Give the plot a label equal to 'Degrees 2017/18'.</p> "
   ]
  },
  {
   "cell_type": "code",
   "execution_count": 6,
   "metadata": {},
   "outputs": [
    {
     "data": {
      "text/plain": [
       "<BarContainer object of 4 artists>"
      ]
     },
     "execution_count": 6,
     "metadata": {},
     "output_type": "execute_result"
    },
    {
     "data": {
      "image/png": "[encoded data removed]",
      "text/plain": [
       "<Figure size 1000x500 with 1 Axes>"
      ]
     },
     "metadata": {},
     "output_type": "display_data"
    }
   ],
   "source": [
    "plt.figure(figsize = (10,5))\n",
    "plt.bar('Classification of First Degree', 'Percentage', data=df_17_18)"
   ]
  },
  {
   "cell_type": "markdown",
   "metadata": {},
   "source": [
    "<h2>Resetting and Reording the Index</h2>\n",
    "<p>Reset the index (so things are easier to shuffle around), then, reorder the index so that the classifications are in order from First to Third.</p>\n",
    "<p>Replot to check things worked as expected.</p>"
   ]
  },
  {
   "cell_type": "code",
   "execution_count": 7,
   "metadata": {},
   "outputs": [
    {
     "data": {
      "text/plain": [
       "<BarContainer object of 4 artists>"
      ]
     },
     "execution_count": 7,
     "metadata": {},
     "output_type": "execute_result"
    },
    {
     "data": {
      "image/png": "[encoded data removed]",
      "text/plain": [
       "<Figure size 1000x500 with 1 Axes>"
      ]
     },
     "metadata": {},
     "output_type": "display_data"
    }
   ],
   "source": [
    "order = {'First' : 1, 'Upper second' : 2, 'Lower second' : 3, 'Third/Pass' : 4}\n",
    "df_17_18 = df_17_18.sort_values(by = 'Classification of First Degree', key = lambda x: x.map(order))\n",
    "\n",
    "plt.figure(figsize = (10,5))\n",
    "plt.bar('Classification of First Degree', 'Percentage', data=df_17_18)"
   ]
  },
  {
   "cell_type": "markdown",
   "metadata": {},
   "source": [
    "<h2>Adding x and y labels</h2>\n",
    "<p>Add a x label 'Classification of First Degree' and a y label '% Achieved', then replot</p>"
   ]
  },
  {
   "cell_type": "code",
   "execution_count": 8,
   "metadata": {},
   "outputs": [
    {
     "data": {
      "text/plain": [
       "<BarContainer object of 4 artists>"
      ]
     },
     "execution_count": 8,
     "metadata": {},
     "output_type": "execute_result"
    },
    {
     "data": {
      "image/png": "[encoded data removed]",
      "text/plain": [
       "<Figure size 1000x500 with 1 Axes>"
      ]
     },
     "metadata": {},
     "output_type": "display_data"
    }
   ],
   "source": [
    "plt.figure(figsize = (10,5))\n",
    "plt.xlabel('Classification of First Degree')\n",
    "plt.ylabel('% Achieved')\n",
    "plt.bar('Classification of First Degree', 'Percentage', data=df_17_18)"
   ]
  },
  {
   "cell_type": "markdown",
   "metadata": {},
   "source": [
    "<h2>Add a Title to the Plot</h2>\n",
    "<p>Add a title to the plot, 'Percentage of First Class Degrees Awarded'</p>"
   ]
  },
  {
   "cell_type": "code",
   "execution_count": 9,
   "metadata": {},
   "outputs": [
    {
     "data": {
      "text/plain": [
       "<BarContainer object of 4 artists>"
      ]
     },
     "execution_count": 9,
     "metadata": {},
     "output_type": "execute_result"
    },
    {
     "data": {
      "image/png": "[encoded data removed]",
      "text/plain": [
       "<Figure size 1000x500 with 1 Axes>"
      ]
     },
     "metadata": {},
     "output_type": "display_data"
    }
   ],
   "source": [
    "plt.figure(figsize = (10,5))\n",
    "plt.title('Percentage of First Class Degree Awarded')\n",
    "plt.xlabel('Classification of First Degree')\n",
    "plt.ylabel('% Achieved')\n",
    "plt.bar('Classification of First Degree', 'Percentage', data=df_17_18)"
   ]
  },
  {
   "cell_type": "markdown",
   "metadata": {},
   "source": [
    "<h2>Horizontal Bar Plots</h2>\n",
    "<p>Change the plot so that a horizontal bar graph is plotted.</p>"
   ]
  },
  {
   "cell_type": "code",
   "execution_count": 10,
   "metadata": {},
   "outputs": [
    {
     "data": {
      "text/plain": [
       "<BarContainer object of 4 artists>"
      ]
     },
     "execution_count": 10,
     "metadata": {},
     "output_type": "execute_result"
    },
    {
     "data": {
      "image/png": "[encoded data removed]",
      "text/plain": [
       "<Figure size 1000x500 with 1 Axes>"
      ]
     },
     "metadata": {},
     "output_type": "display_data"
    }
   ],
   "source": [
    "plt.figure(figsize = (10,5))\n",
    "plt.title('Percentage of First Class Degree Awarded')\n",
    "plt.ylabel('Classification of First Degree')\n",
    "plt.xlabel('% Achieved')\n",
    "plt.barh('Classification of First Degree', 'Percentage', data=df_17_18)"
   ]
  },
  {
   "cell_type": "markdown",
   "metadata": {},
   "source": [
    "<h2>What the Plot tells you</h2>\n",
    "<p>Based on your plot, complete the following statements</p>\n",
    "<ul>\n",
    "<li>The most common degree classification awarded for academic year 2017/18 was a _____________</li>\n",
    "<li>The least common degree classification awarded for academic year 2017/18 was a _____________</li>\n",
    "<li>Approximately 30% of degrees awarded for academic year 2017/18 were __________ degrees.</li>\n",
    "<li>Approximately 20% of degrees awarded for academic year 2017/18 were __________ degrees.</li>\n",
    "</ul>"
   ]
  }
 ],
 "metadata": {
  "kernelspec": {
   "display_name": "Python 3 (ipykernel)",
   "language": "python",
   "name": "python3"
  },
  "language_info": {
   "codemirror_mode": {
    "name": "ipython",
    "version": 3
   },
   "file_extension": ".py",
   "mimetype": "text/x-python",
   "name": "python",
   "nbconvert_exporter": "python",
   "pygments_lexer": "ipython3",
   "version": "3.10.12"
  }
 },
 "nbformat": 4,
 "nbformat_minor": 4
}

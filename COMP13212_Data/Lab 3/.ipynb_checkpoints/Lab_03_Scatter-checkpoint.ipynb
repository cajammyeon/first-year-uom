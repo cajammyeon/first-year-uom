{
 "cells": [
  {
   "cell_type": "markdown",
   "metadata": {},
   "source": [
    "<h1>Number of Students by Higher Education provider</h1>\n",
    "<p>In these notes we look at creating a scatter plot based on a set of data.  We have a datafile named numberOfStudentsFull_18_19.csv (available on blackboard).</p>\n",
    "<p>Datafile provided by HESA, available at: <a href=\"https://www.hesa.ac.uk/data-and-analysis/students/table-1\"> Original Datafile </a></p>\n",
    "<p>\n",
    "Our task is to read the contents of the file into a data frame and to create a scatter plot that shows the number of male students vs the number of female students for each institution.\n",
    "</p>"
   ]
  },
  {
   "cell_type": "markdown",
   "metadata": {},
   "source": [
    "<h2>Import PANDAs and Matplotlib.pylot</h2>\n",
    "<p>You will be using the pandas DataFrame to store the data and Matplotlib pyplot to plot the data.  Import the necessary libraries</h2>"
   ]
  },
  {
   "cell_type": "code",
   "execution_count": null,
   "metadata": {},
   "outputs": [],
   "source": []
  },
  {
   "cell_type": "markdown",
   "metadata": {},
   "source": [
    "<h2>Read the data into a PANDAs DataFrame</h2>\n",
    "<p>Read the 'numberOfStudentsFull_18_19.csv' into a DataFrame called df, use the head method to output the first 20 rows of the datafile so that the structure of the DataFrame can be explored.</p>\n",
    "<p>Try to identify where the column headings start within the datafile.  Adjust the read_csv paramters to skip past the summary information so that the columns within the datafile are the columns within the DataFrame</p>"
   ]
  },
  {
   "cell_type": "code",
   "execution_count": null,
   "metadata": {},
   "outputs": [],
   "source": []
  },
  {
   "cell_type": "markdown",
   "metadata": {},
   "source": [
    "<h2>Filter the Data</h2>\n",
    "<p>Filter the data within the DataFrame. You want to show the total number of Female, Male and Other sex students that are studying an undergraduate degree full-time, for each HE provider.\n",
    "You are also interested in the Country of HE provider. Make a copy of the original DataFrame into a new DataFrame named df2 just in case you make a mistake - use the copy method.\n",
    "</p>\n",
    "<p>Resulting Dataframe Output</p>\n",
    "<table border=\"1\" class=\"dataframe\">\n",
    "  <thead>\n",
    "    <tr style=\"text-align: right;\">\n",
    "      <th></th>\n",
    "      <th>HE provider</th>\n",
    "      <th>Country of HE provider</th>\n",
    "      <th>Category</th>\n",
    "      <th>Number</th>\n",
    "    </tr>\n",
    "  </thead>\n",
    "  <tbody>\n",
    "    <tr>\n",
    "      <td>492450</td>\n",
    "      <td>The University of Aberdeen</td>\n",
    "      <td>Scotland</td>\n",
    "      <td>Female</td>\n",
    "      <td>5620</td>\n",
    "    </tr>\n",
    "    <tr>\n",
    "      <td>492451</td>\n",
    "      <td>The University of Aberdeen</td>\n",
    "      <td>Scotland</td>\n",
    "      <td>Male</td>\n",
    "      <td>4085</td>\n",
    "    </tr>\n",
    "    <tr>\n",
    "      <td>492452</td>\n",
    "      <td>The University of Aberdeen</td>\n",
    "      <td>Scotland</td>\n",
    "      <td>Other</td>\n",
    "      <td>0</td>\n",
    "    </tr>\n",
    "    <tr>\n",
    "      <td>492954</td>\n",
    "      <td>University of Abertay Dundee</td>\n",
    "      <td>Scotland</td>\n",
    "      <td>Female</td>\n",
    "      <td>1775</td>\n",
    "    </tr>\n",
    "    <tr>\n",
    "      <td>492955</td>\n",
    "      <td>University of Abertay Dundee</td>\n",
    "      <td>Scotland</td>\n",
    "      <td>Male</td>\n",
    "      <td>1895</td>\n",
    "    </tr>\n",
    "    <tr>\n",
    "      <td>...</td>\n",
    "      <td>...</td>\n",
    "      <td>...</td>\n",
    "      <td>...</td>\n",
    "      <td>...</td>\n",
    "    </tr>\n",
    "    <tr>\n",
    "      <td>570767</td>\n",
    "      <td>York St John University</td>\n",
    "      <td>England</td>\n",
    "      <td>Male</td>\n",
    "      <td>1920</td>\n",
    "    </tr>\n",
    "    <tr>\n",
    "      <td>570768</td>\n",
    "      <td>York St John University</td>\n",
    "      <td>England</td>\n",
    "      <td>Other</td>\n",
    "      <td>0</td>\n",
    "    </tr>\n",
    "    <tr>\n",
    "      <td>571270</td>\n",
    "      <td>The University of York</td>\n",
    "      <td>England</td>\n",
    "      <td>Female</td>\n",
    "      <td>7460</td>\n",
    "    </tr>\n",
    "    <tr>\n",
    "      <td>571271</td>\n",
    "      <td>The University of York</td>\n",
    "      <td>England</td>\n",
    "      <td>Male</td>\n",
    "      <td>6095</td>\n",
    "    </tr>\n",
    "    <tr>\n",
    "      <td>571272</td>\n",
    "      <td>The University of York</td>\n",
    "      <td>England</td>\n",
    "      <td>Other</td>\n",
    "      <td>0</td>\n",
    "    </tr>\n",
    "  </tbody>\n",
    "</table>"
   ]
  },
  {
   "cell_type": "code",
   "execution_count": null,
   "metadata": {},
   "outputs": [],
   "source": []
  },
  {
   "cell_type": "markdown",
   "metadata": {},
   "source": [
    "<h2>A new dataframe with a different structure</h2>\n",
    "<p>Create a new DataFrame named df3, this DataFrame should contain the structure so that Male, Female and Other are on a single line for each HE provider</p>\n",
    "<p>Example Output</p>\n",
    "\n",
    "<table border=\"1\" class=\"dataframe\">\n",
    "  <thead>\n",
    "    <tr style=\"text-align: right;\">\n",
    "      <th></th>\n",
    "      <th>HE provider</th>\n",
    "      <th>Country</th>\n",
    "      <th>Female</th>\n",
    "      <th>Male</th>\n",
    "      <th>Other</th>\n",
    "    </tr>\n",
    "  </thead>\n",
    "  <tbody>\n",
    "    <tr>\n",
    "      <td>0</td>\n",
    "      <td>The University of Aberdeen</td>\n",
    "      <td>Scotland</td>\n",
    "      <td>5620.0</td>\n",
    "      <td>4085.0</td>\n",
    "      <td>0.0</td>\n",
    "    </tr>\n",
    "    <tr>\n",
    "      <td>1</td>\n",
    "      <td>University of Abertay Dundee</td>\n",
    "      <td>Scotland</td>\n",
    "      <td>1775.0</td>\n",
    "      <td>1895.0</td>\n",
    "      <td>5.0</td>\n",
    "    </tr>\n",
    "    <tr>\n",
    "      <td>2</td>\n",
    "      <td>Aberystwyth University</td>\n",
    "      <td>Wales</td>\n",
    "      <td>2900.0</td>\n",
    "      <td>2785.0</td>\n",
    "      <td>25.0</td>\n",
    "    </tr>\n",
    "    <tr>\n",
    "      <td>3</td>\n",
    "      <td>AECC University College</td>\n",
    "      <td>England</td>\n",
    "      <td>215.0</td>\n",
    "      <td>220.0</td>\n",
    "      <td>0.0</td>\n",
    "    </tr>\n",
    "    <tr>\n",
    "      <td>4</td>\n",
    "      <td>Anglia Ruskin University</td>\n",
    "      <td>England</td>\n",
    "      <td>11250.0</td>\n",
    "      <td>6115.0</td>\n",
    "      <td>5.0</td>\n",
    "    </tr>\n",
    "    <tr>\n",
    "      <td>5</td>\n",
    "      <td>Aston University</td>\n",
    "      <td>England</td>\n",
    "      <td>5365.0</td>\n",
    "      <td>5585.0</td>\n",
    "      <td>0.0</td>\n",
    "    </tr>\n",
    "    <tr>\n",
    "      <td>6</td>\n",
    "      <td>Bangor University</td>\n",
    "      <td>Wales</td>\n",
    "      <td>4440.0</td>\n",
    "      <td>2975.0</td>\n",
    "      <td>0.0</td>\n",
    "    </tr>\n",
    "    <tr>\n",
    "      <td>7</td>\n",
    "      <td>Bath Spa University</td>\n",
    "      <td>England</td>\n",
    "      <td>4055.0</td>\n",
    "      <td>1885.0</td>\n",
    "      <td>0.0</td>\n",
    "    </tr>\n",
    "    <tr>\n",
    "      <td>8</td>\n",
    "      <td>The University of Bath</td>\n",
    "      <td>England</td>\n",
    "      <td>5825.0</td>\n",
    "      <td>7460.0</td>\n",
    "      <td>10.0</td>\n",
    "    </tr>\n",
    "    <tr>\n",
    "      <td>9</td>\n",
    "      <td>University of Bedfordshire</td>\n",
    "      <td>England</td>\n",
    "      <td>5735.0</td>\n",
    "      <td>3775.0</td>\n",
    "      <td>0.0</td>\n",
    "    </tr>\n",
    "  </tbody>\n",
    "</table>"
   ]
  },
  {
   "cell_type": "code",
   "execution_count": null,
   "metadata": {},
   "outputs": [],
   "source": []
  },
  {
   "cell_type": "markdown",
   "metadata": {},
   "source": [
    "<h2>Creating Separate Dataframes</h2>\n",
    "<p>Create separate DataFrames for each Country (Scotland, Wales, England and Northern Ireland) named scotland, wales, england and nireland.</p>"
   ]
  },
  {
   "cell_type": "code",
   "execution_count": null,
   "metadata": {},
   "outputs": [],
   "source": []
  },
  {
   "cell_type": "markdown",
   "metadata": {},
   "source": [
    "<h2>Create a Scatter Plot</h2>\n",
    "<p>Create a scatter plot for the DataFrame that represents undergraduate students studying in Northern Ireland.  Plot the number of male students along the x-axis and the number of female students along the y-axis.</p>\n",
    "<p>Add the following features to the plot:</p>\n",
    "<ul>\n",
    "<li>Title of Male vs Female</li>\n",
    "<li>Figure size of 15x6 (or whatever is most appropriate for your display)</li>    \n",
    "<li>y-axis named Female</li>\n",
    "<li>x-axis named Male</li>\n",
    "<li>Circles for each Plot, coloured red</li>\n",
    "<li>With a grid</li>\n",
    "</ul>\n",
    "</p>"
   ]
  },
  {
   "cell_type": "code",
   "execution_count": null,
   "metadata": {},
   "outputs": [],
   "source": []
  },
  {
   "cell_type": "markdown",
   "metadata": {},
   "source": [
    "<h2>What the Plot tells you</h2>\n",
    "<p>Based on your plot, complete the following statements</p>\n",
    "<ul>\n",
    "<li>There are ________________ HE providers in Northern Ireland.</li>\n",
    "<li>Two of the HE providers in Northern Ireland have over 6500 male students and over  ________________ female students.</li>\n",
    "<li>There are two small HE providers in Northern Ireland, each with fewer than ________________ male students.</li>\n",
    "<li>At all four HE providers in Northern Ireland, there are fewer ________________ than ________________.</li>\n",
    "</ul>"
   ]
  },
  {
   "cell_type": "markdown",
   "metadata": {},
   "source": [
    "<h2>Adding new Plots</h2>\n",
    "<p>Add plots for the DataFrame that represent the number of students in Wales, the colour of the plots should be blue so that we can easier distinguish between the two different Countries.</p>"
   ]
  },
  {
   "cell_type": "code",
   "execution_count": null,
   "metadata": {},
   "outputs": [],
   "source": []
  },
  {
   "cell_type": "markdown",
   "metadata": {},
   "source": [
    "<h2>What the Plot tells you</h2>\n",
    "<p>Based on your plot, complete the following statements</p>\n",
    "<ul>\n",
    "<li>Which Country has the HE provider with the fewest students?   ________________ </li>\n",
    "<li>Which Country has the only HE provider with more male students than female students?  ________________, approximately how many students are there? ________________  </li>\n",
    "<li>How many HE providers have less than 10,000 students? ________________</li>\n",
    "<li>Which Country has the most HE providers with over 8000 female students? ________________</li>\n",
    "</ul>"
   ]
  },
  {
   "cell_type": "markdown",
   "metadata": {},
   "source": [
    "<h2>Adding new Plots</h2>\n",
    "<p>Add plots for the DataFrame that represents HE providers located in Scotland, the colour of the plots should be green.</p>"
   ]
  },
  {
   "cell_type": "code",
   "execution_count": null,
   "metadata": {},
   "outputs": [],
   "source": []
  },
  {
   "cell_type": "markdown",
   "metadata": {},
   "source": [
    "<h2>What the Plot tells you</h2>\n",
    "<p>Based on your plot, complete the following statements</p>\n",
    "<ul>\n",
    "<li>Which Country has the most HE providers?   ________________ </li>\n",
    "<li>One HE provider has over 13,000 female students, and over ________________ male students. </li>\n",
    "<li>________________ has more HE providers than both ________________ and ________________ combined.</li>\n",
    "<li>Roughly (eye balling the graph), how many HE providers have approximatley the same number of male and female students? ________________</li>\n",
    "</ul>"
   ]
  },
  {
   "cell_type": "markdown",
   "metadata": {},
   "source": [
    "<h2>Adding new Plots</h2>\n",
    "<p>Add plots for the DataFrame that represents HE providers in England, the colour of the plots should be yellow.  There will many plots, therefore plot the England data before the other data.</p>"
   ]
  },
  {
   "cell_type": "code",
   "execution_count": null,
   "metadata": {},
   "outputs": [],
   "source": []
  },
  {
   "cell_type": "markdown",
   "metadata": {},
   "source": [
    "<h2>What the Plot tells you</h2>\n",
    "<p>Based on your plot, complete the following statements</p>\n",
    "<ul>\n",
    "<li>What is one of the obvious drawbacks with scatter plots with many points?   ________________ </li>\n",
    "<li>Approximatley how many HE providers have more than 10,000 male students? ________________</li>\n",
    "<li>Excluding England, in which country is there an HE provider the most female students? ________________</li>\n",
    "<li>Roughly (eye balling the graph), which country has an HE provider with nearly three times as many female students as male students? ________________</li>\n",
    "</ul>"
   ]
  },
  {
   "cell_type": "markdown",
   "metadata": {},
   "source": [
    "<h2>Export the DataFrames</h2>\n",
    "<p>We will use the same data in the next set of lab notes, export DataFrames england, scotland, wales and nireland to csv files.</p>"
   ]
  },
  {
   "cell_type": "code",
   "execution_count": null,
   "metadata": {},
   "outputs": [],
   "source": []
  },
  {
   "cell_type": "markdown",
   "metadata": {},
   "source": [
    "<h2>Your Custom Plots</h2>\n",
    "<p>Create your own custom plots, for example you might want to exclude all HE providers from the plot that has fewer than 500 male students and 500 female students.  Or perhaps you are only interested in the 10% of HE providers with the largest student population.  Experiment with different styles/designs of plot to really enhance them, i.e. try different plot markers and marker sizes.  Be creative and have fun. </p>"
   ]
  },
  {
   "cell_type": "code",
   "execution_count": null,
   "metadata": {},
   "outputs": [],
   "source": []
  }
 ],
 "metadata": {
  "kernelspec": {
   "display_name": "Python 3",
   "language": "python",
   "name": "python3"
  },
  "language_info": {
   "codemirror_mode": {
    "name": "ipython",
    "version": 3
   },
   "file_extension": ".py",
   "mimetype": "text/x-python",
   "name": "python",
   "nbconvert_exporter": "python",
   "pygments_lexer": "ipython3",
   "version": "3.8.3"
  },
  "latex_envs": {
   "LaTeX_envs_menu_present": true,
   "autoclose": false,
   "autocomplete": true,
   "bibliofile": "biblio.bib",
   "cite_by": "apalike",
   "current_citInitial": 1,
   "eqLabelWithNumbers": true,
   "eqNumInitial": 1,
   "hotkeys": {
    "equation": "Ctrl-E",
    "itemize": "Ctrl-I"
   },
   "labels_anchors": false,
   "latex_user_defs": false,
   "report_style_numbering": false,
   "user_envs_cfg": false
  }
 },
 "nbformat": 4,
 "nbformat_minor": 4
}
